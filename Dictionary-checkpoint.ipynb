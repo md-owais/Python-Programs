{
 "cells": [
  {
   "cell_type": "markdown",
   "id": "99efe417",
   "metadata": {},
   "source": [
    "# Dictionary in Python "
   ]
  },
  {
   "cell_type": "code",
   "execution_count": 1,
   "id": "54a912d2",
   "metadata": {},
   "outputs": [
    {
     "name": "stdout",
     "output_type": "stream",
     "text": [
      "{'name': 'Owais', 'Age': 23}\n"
     ]
    }
   ],
   "source": [
    "# Create a Dictionary\n",
    "dict={\"name\":\"Owais\", \"Age\":23}\n",
    "print(dict)"
   ]
  },
  {
   "cell_type": "code",
   "execution_count": 5,
   "id": "b2d42baf",
   "metadata": {},
   "outputs": [
    {
     "name": "stdout",
     "output_type": "stream",
     "text": [
      "Owais\n"
     ]
    }
   ],
   "source": [
    "# print the value of name\n",
    "dict={\"name\":\"Owais\", \"Age\":23}\n",
    "print(dict[\"name\"])"
   ]
  },
  {
   "cell_type": "code",
   "execution_count": 11,
   "id": "1ed4bcc2",
   "metadata": {},
   "outputs": [
    {
     "name": "stdout",
     "output_type": "stream",
     "text": [
      "{'name': 'Owais', 'Age': 23, 'gender': 'Male'}\n"
     ]
    }
   ],
   "source": [
    "# Add the Dictionary\n",
    "dict={\"name\":\"Owais\", \"Age\":23}\n",
    "# print(dict[\"Name\"])\n",
    "dict[\"gender\"]= \"Male\"\n",
    "print(dict)"
   ]
  },
  {
   "cell_type": "code",
   "execution_count": 13,
   "id": "c307b956",
   "metadata": {},
   "outputs": [
    {
     "name": "stdout",
     "output_type": "stream",
     "text": [
      "{'name': 'Rahul', 'Age': 23}\n"
     ]
    }
   ],
   "source": [
    "# Update the Dictionary\n",
    "dict={\"name\":\"Owais\", \"Age\":23}\n",
    "dict[\"name\"]=\"Rahul\"\n",
    "print(dict)"
   ]
  },
  {
   "cell_type": "code",
   "execution_count": 14,
   "id": "bcda8a7c",
   "metadata": {},
   "outputs": [
    {
     "name": "stdout",
     "output_type": "stream",
     "text": [
      "{'Age': 23}\n"
     ]
    }
   ],
   "source": [
    "# Delete operation\n",
    "dict={\"name\":\"Owais\", \"Age\":23}\n",
    "dict.pop(\"name\")\n",
    "print(dict)"
   ]
  },
  {
   "cell_type": "code",
   "execution_count": null,
   "id": "65023b84",
   "metadata": {},
   "outputs": [],
   "source": []
  }
 ],
 "metadata": {
  "kernelspec": {
   "display_name": "Python 3",
   "language": "python",
   "name": "python3"
  },
  "language_info": {
   "codemirror_mode": {
    "name": "ipython",
    "version": 3
   },
   "file_extension": ".py",
   "mimetype": "text/x-python",
   "name": "python",
   "nbconvert_exporter": "python",
   "pygments_lexer": "ipython3",
   "version": "3.8.8"
  }
 },
 "nbformat": 4,
 "nbformat_minor": 5
}
