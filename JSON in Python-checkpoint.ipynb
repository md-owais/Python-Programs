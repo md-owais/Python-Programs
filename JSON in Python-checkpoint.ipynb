{
 "cells": [
  {
   "cell_type": "code",
   "execution_count": 5,
   "id": "318ec569",
   "metadata": {},
   "outputs": [
    {
     "name": "stdout",
     "output_type": "stream",
     "text": [
      "23\n"
     ]
    }
   ],
   "source": [
    "# json.loads()\n",
    "import json\n",
    "dict='{\"Name\":\"Owais\", \"Age\":23, \"City\":\"Bangalore\"}'\n",
    "y=json.loads(dict)\n",
    "print(y[\"Age\"])\n",
    "    "
   ]
  },
  {
   "cell_type": "code",
   "execution_count": 1,
   "id": "9b6dfa30",
   "metadata": {},
   "outputs": [
    {
     "name": "stdout",
     "output_type": "stream",
     "text": [
      "{\"name\": \"Owais\", \"Age\": 30, \"City\": \"Bangalore\"}\n"
     ]
    }
   ],
   "source": [
    "# json.dumps()\n",
    "import json\n",
    "x={\"name\":\"Owais\", \"Age\":30, \"City\":\"Bangalore\"}\n",
    "y=json.dumps(x)\n",
    "print(y)"
   ]
  },
  {
   "cell_type": "markdown",
   "id": "372316c4",
   "metadata": {},
   "source": [
    "# Convert Python objects into JSON strings, and print the values"
   ]
  },
  {
   "cell_type": "code",
   "execution_count": 5,
   "id": "f00bb372",
   "metadata": {},
   "outputs": [
    {
     "name": "stdout",
     "output_type": "stream",
     "text": [
      "{\"Name\": \"Owais\", \"Age\": 23}\n",
      "[\"Apple\", \"Banana\"]\n",
      "\"hello\"\n",
      "42\n",
      "3.12\n",
      "true\n",
      "false\n",
      "null\n"
     ]
    }
   ],
   "source": [
    "import json\n",
    "print(json.dumps({\"Name\":\"Owais\", \"Age\":23}))\n",
    "print(json.dumps([\"Apple\", \"Banana\"]))\n",
    "# print(json.dumps(\"apple\", \"banana\"))\n",
    "print(json.dumps(\"hello\"))\n",
    "print(json.dumps(42))\n",
    "print(json.dumps(3.12))\n",
    "print(json.dumps(True))\n",
    "print(json.dumps(False))\n",
    "print(json.dumps(None))"
   ]
  },
  {
   "cell_type": "code",
   "execution_count": null,
   "id": "330de77e",
   "metadata": {},
   "outputs": [],
   "source": []
  }
 ],
 "metadata": {
  "kernelspec": {
   "display_name": "Python 3",
   "language": "python",
   "name": "python3"
  },
  "language_info": {
   "codemirror_mode": {
    "name": "ipython",
    "version": 3
   },
   "file_extension": ".py",
   "mimetype": "text/x-python",
   "name": "python",
   "nbconvert_exporter": "python",
   "pygments_lexer": "ipython3",
   "version": "3.8.8"
  }
 },
 "nbformat": 4,
 "nbformat_minor": 5
}
